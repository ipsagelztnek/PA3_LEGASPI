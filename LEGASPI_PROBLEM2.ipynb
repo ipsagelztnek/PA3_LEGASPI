{
 "cells": [
  {
   "cell_type": "code",
   "execution_count": 4,
   "id": "6ce32212-c91c-401b-bb05-f6f29abc4546",
   "metadata": {},
   "outputs": [],
   "source": [
    "import pandas as pd\n",
    "cars = pd.read_csv('cars.csv')"
   ]
  },
  {
   "cell_type": "code",
   "execution_count": 8,
   "id": "63a3b872-76c4-4a45-a061-c417148f2850",
   "metadata": {},
   "outputs": [
    {
     "name": "stdout",
     "output_type": "stream",
     "text": [
      "               Model  cyl   hp     wt  vs  gear\n",
      "0          Mazda RX4    6  110  2.620   0     4\n",
      "1      Mazda RX4 Wag    6  110  2.875   0     4\n",
      "2         Datsun 710    4   93  2.320   1     4\n",
      "3     Hornet 4 Drive    6  110  3.215   1     3\n",
      "4  Hornet Sportabout    8  175  3.440   0     3\n"
     ]
    }
   ],
   "source": [
    "print(cars.iloc[:5, ::2])"
   ]
  },
  {
   "cell_type": "code",
   "execution_count": 9,
   "id": "4e9b3483-7d3a-4646-9112-c7c9897198f1",
   "metadata": {},
   "outputs": [
    {
     "name": "stdout",
     "output_type": "stream",
     "text": [
      "       Model   mpg  cyl   disp   hp  drat    wt   qsec  vs  am  gear  carb\n",
      "0  Mazda RX4  21.0    6  160.0  110   3.9  2.62  16.46   0   1     4     4\n"
     ]
    }
   ],
   "source": [
    "print(cars.loc[cars['Model'] == 'Mazda RX4'])"
   ]
  },
  {
   "cell_type": "code",
   "execution_count": 10,
   "id": "801aa268-bdf3-4a6e-92ec-038f55f4cf44",
   "metadata": {},
   "outputs": [
    {
     "name": "stdout",
     "output_type": "stream",
     "text": [
      "    cyl\n",
      "23    8\n"
     ]
    }
   ],
   "source": [
    "print(cars.loc[cars['Model'] == 'Camaro Z28', ['cyl']])"
   ]
  },
  {
   "cell_type": "code",
   "execution_count": 11,
   "id": "85a8e093-8cc5-48bf-ae9c-8a6da752f615",
   "metadata": {
    "scrolled": true
   },
   "outputs": [
    {
     "name": "stdout",
     "output_type": "stream",
     "text": [
      "    cyl  gear\n",
      "1     6     4\n",
      "18    4     4\n",
      "28    8     5\n"
     ]
    }
   ],
   "source": [
    "models = ['Mazda RX4 Wag', 'Ford Pantera L', 'Honda Civic']\n",
    "print(cars.loc[cars['Model'].isin(models), ['cyl', 'gear']])"
   ]
  },
  {
   "cell_type": "code",
   "execution_count": null,
   "id": "10c42ca4-bfe1-4d8c-86ba-13f69a4fffcf",
   "metadata": {},
   "outputs": [],
   "source": []
  }
 ],
 "metadata": {
  "kernelspec": {
   "display_name": "Python [conda env:base] *",
   "language": "python",
   "name": "conda-base-py"
  },
  "language_info": {
   "codemirror_mode": {
    "name": "ipython",
    "version": 3
   },
   "file_extension": ".py",
   "mimetype": "text/x-python",
   "name": "python",
   "nbconvert_exporter": "python",
   "pygments_lexer": "ipython3",
   "version": "3.13.5"
  }
 },
 "nbformat": 4,
 "nbformat_minor": 5
}
